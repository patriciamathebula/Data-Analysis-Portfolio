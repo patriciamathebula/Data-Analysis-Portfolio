{
 "cells": [
  {
   "cell_type": "markdown",
   "id": "d527c3da-54d5-4495-8e98-ef6ff4081972",
   "metadata": {},
   "source": [
    "# Data Science Tools and Ecosystem"
   ]
  },
  {
   "cell_type": "markdown",
   "id": "b4f0be8b-3ac2-43f6-9918-cd2c9b0242d8",
   "metadata": {},
   "source": [
    "In this notebook, Data Science Tools and Ecosystem are summarized."
   ]
  },
  {
   "cell_type": "markdown",
   "id": "6c30b177-eb7b-4824-9845-f0ade7276e8c",
   "metadata": {},
   "source": [
    "**Objectives**\n",
    "- List of popular language for Data Science.\n",
    "- List of Libraries used in Data Science\n",
    "- Arithmetic examples in Python\n",
    "- Creating a table "
   ]
  },
  {
   "cell_type": "markdown",
   "id": "2466ca5d-df47-47e8-8b84-e882c7aac112",
   "metadata": {},
   "source": [
    "Some of the popular languages that Data Scientists use are:\n",
    "1. Python\n",
    "2. R\n",
    "3. SQL\n",
    "4. Java"
   ]
  },
  {
   "cell_type": "markdown",
   "id": "eb48049a-6427-422d-9757-15ea283052f6",
   "metadata": {},
   "source": [
    "Some of the commonly used libraries used by Data Scientists include:\n",
    "1. NumPy\n",
    "2. Pandas\n",
    "3. Matplotlib\n",
    "4. Scikit-learn\n",
    "   "
   ]
  },
  {
   "cell_type": "markdown",
   "id": "52ff955f-6988-47d4-82b4-cc1c802f4175",
   "metadata": {},
   "source": [
    "|Data Science Tools|\n",
    "|----|\n",
    "|Pandas|\n",
    "|Jupyter Notebook|\n",
    "|Seaborn|"
   ]
  },
  {
   "cell_type": "markdown",
   "id": "99b94189-d6d0-47ad-af23-eeb86d18a2d3",
   "metadata": {},
   "source": [
    "### Below are a few examples of evaluating arithmetic expressions in Python"
   ]
  },
  {
   "cell_type": "code",
   "execution_count": 3,
   "id": "daf86325-220e-47c6-99e5-85c3bdf1b9b1",
   "metadata": {},
   "outputs": [
    {
     "data": {
      "text/plain": [
       "17"
      ]
     },
     "execution_count": 3,
     "metadata": {},
     "output_type": "execute_result"
    }
   ],
   "source": [
    "#This a simple arithmetic expression to mutiply then add integers\n",
    "(3*4)+5"
   ]
  },
  {
   "cell_type": "code",
   "execution_count": 4,
   "id": "b618e60e-8033-440f-b1ec-6f368c680465",
   "metadata": {},
   "outputs": [
    {
     "data": {
      "text/plain": [
       "3.3333333333333335"
      ]
     },
     "execution_count": 4,
     "metadata": {},
     "output_type": "execute_result"
    }
   ],
   "source": [
    "#This will convert 200 minutes to hours by dividing by 60\n",
    "200/60"
   ]
  },
  {
   "cell_type": "markdown",
   "id": "a988a86d-6b53-4551-aeef-e68013e924f4",
   "metadata": {},
   "source": [
    "## Author\n",
    "Patricia Mathebula"
   ]
  },
  {
   "cell_type": "code",
   "execution_count": null,
   "id": "6aa6482c-0f28-4acf-ad45-2dafe0f4f7a9",
   "metadata": {},
   "outputs": [],
   "source": []
  }
 ],
 "metadata": {
  "kernelspec": {
   "display_name": "Python 3 (ipykernel)",
   "language": "python",
   "name": "python3"
  },
  "language_info": {
   "codemirror_mode": {
    "name": "ipython",
    "version": 3
   },
   "file_extension": ".py",
   "mimetype": "text/x-python",
   "name": "python",
   "nbconvert_exporter": "python",
   "pygments_lexer": "ipython3",
   "version": "3.12.3"
  }
 },
 "nbformat": 4,
 "nbformat_minor": 5
}
